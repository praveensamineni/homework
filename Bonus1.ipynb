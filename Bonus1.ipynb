{
  "nbformat": 4,
  "nbformat_minor": 0,
  "metadata": {
    "kernelspec": {
      "display_name": "Python 3",
      "language": "python",
      "name": "python3"
    },
    "language_info": {
      "codemirror_mode": {
        "name": "ipython",
        "version": 3
      },
      "file_extension": ".py",
      "mimetype": "text/x-python",
      "name": "python",
      "nbconvert_exporter": "python",
      "pygments_lexer": "ipython3",
      "version": "3.6.4"
    },
    "colab": {
      "name": "Bonus1.ipynb",
      "provenance": [],
      "toc_visible": true
    },
    "accelerator": "GPU"
  },
  "cells": [
    {
      "cell_type": "markdown",
      "metadata": {
        "id": "gB0wmwfA8xKh"
      },
      "source": [
        "# Bonus1: Parallel Algorithms\n",
        "\n",
        "### Name: [Your-Name?]\n"
      ]
    },
    {
      "cell_type": "markdown",
      "metadata": {
        "id": "bRPWz01q8xKn"
      },
      "source": [
        "## 0. You will do the following:\n",
        "\n",
        "1. Read the lecture note: [click here](https://github.com/wangshusen/DeepLearning/blob/master/LectureNotes/Parallel/Parallel.pdf)\n",
        "\n",
        "2. Implement federated averaging or decentralized optimization.\n",
        "\n",
        "3. Plot the convergence curve. (The x-axis can be ```number of epochs``` or ```number of communication```. You must make sure the label is correct.)\n",
        "\n",
        "4. Convert the .IPYNB file to .HTML file.\n",
        "\n",
        "    * The HTML file must contain **the code** and **the output after execution**.\n",
        "    \n",
        "5. Upload this .HTML file to your Google Drive, Dropbox, or your Github repo. (If it is submitted to Google Drive or Dropbox, you must make the file open-access.)\n",
        "\n",
        "6. Submit the link to this .HTML file to Canvas.\n",
        "\n",
        "    * Example: https://github.com/wangshusen/CS583-2020S/blob/master/homework/Bonus1/Bonus1.html\n",
        "\n"
      ]
    },
    {
      "cell_type": "markdown",
      "metadata": {
        "id": "goVdr6nk8xKp"
      },
      "source": [
        "# 1. Data processing\n",
        "\n",
        "- Download the Diabete dataset from https://www.csie.ntu.edu.tw/~cjlin/libsvmtools/datasets/binary/diabetes\n",
        "- Load the data using sklearn.\n",
        "- Preprocess the data."
      ]
    },
    {
      "cell_type": "markdown",
      "metadata": {
        "id": "Fa_HOtvy8xKp"
      },
      "source": [
        "## 1.1. Load the data"
      ]
    },
    {
      "cell_type": "code",
      "metadata": {
        "id": "4gPAFSF9Izx0"
      },
      "source": [
        "# ! pip freeze"
      ],
      "execution_count": 1,
      "outputs": []
    },
    {
      "cell_type": "code",
      "metadata": {
        "id": "5WrPfQ4fIohV"
      },
      "source": [
        "\n",
        "# TensorFlow and tf.keras\n",
        "import tensorflow as tf\n",
        "from tensorflow import keras\n",
        "\n",
        "# Helper libraries\n",
        "import os\n",
        "import numpy as np\n",
        "from time import time\n",
        "import matplotlib.pyplot as plt\n",
        "# import federated_averaging_optimizer"
      ],
      "execution_count": 2,
      "outputs": []
    },
    {
      "cell_type": "code",
      "metadata": {
        "colab": {
          "base_uri": "https://localhost:8080/"
        },
        "id": "xfu5_70b8xKp",
        "outputId": "4a9ac462-69c5-4689-e875-ed74c450ee1d"
      },
      "source": [
        "from sklearn import datasets\n",
        "import numpy\n",
        "\n",
        "x_sparse, y = datasets.load_svmlight_file('diabetes')\n",
        "x = x_sparse.todense()\n",
        "\n",
        "print('Shape of x: ' + str(x.shape))\n",
        "print('Shape of y: ' + str(y.shape))"
      ],
      "execution_count": 3,
      "outputs": [
        {
          "output_type": "stream",
          "text": [
            "Shape of x: (768, 8)\n",
            "Shape of y: (768,)\n"
          ],
          "name": "stdout"
        }
      ]
    },
    {
      "cell_type": "markdown",
      "metadata": {
        "id": "JAYXszO78xKp"
      },
      "source": [
        "## 1.2. Partition to training and test sets"
      ]
    },
    {
      "cell_type": "code",
      "metadata": {
        "id": "kjBnqkleW6z_"
      },
      "source": [
        "import pandas as pd"
      ],
      "execution_count": 4,
      "outputs": []
    },
    {
      "cell_type": "code",
      "metadata": {
        "id": "X7aeACvwX3zK"
      },
      "source": [
        "df=pd.DataFrame(x)"
      ],
      "execution_count": 7,
      "outputs": []
    },
    {
      "cell_type": "code",
      "metadata": {
        "colab": {
          "base_uri": "https://localhost:8080/",
          "height": 419
        },
        "id": "-njXFXIuWjK_",
        "outputId": "821a4ea3-bce8-420c-f1c2-34f8325ff935"
      },
      "source": [
        "display(df)\n"
      ],
      "execution_count": 8,
      "outputs": [
        {
          "output_type": "display_data",
          "data": {
            "text/html": [
              "<div>\n",
              "<style scoped>\n",
              "    .dataframe tbody tr th:only-of-type {\n",
              "        vertical-align: middle;\n",
              "    }\n",
              "\n",
              "    .dataframe tbody tr th {\n",
              "        vertical-align: top;\n",
              "    }\n",
              "\n",
              "    .dataframe thead th {\n",
              "        text-align: right;\n",
              "    }\n",
              "</style>\n",
              "<table border=\"1\" class=\"dataframe\">\n",
              "  <thead>\n",
              "    <tr style=\"text-align: right;\">\n",
              "      <th></th>\n",
              "      <th>0</th>\n",
              "      <th>1</th>\n",
              "      <th>2</th>\n",
              "      <th>3</th>\n",
              "      <th>4</th>\n",
              "      <th>5</th>\n",
              "      <th>6</th>\n",
              "      <th>7</th>\n",
              "    </tr>\n",
              "  </thead>\n",
              "  <tbody>\n",
              "    <tr>\n",
              "      <th>0</th>\n",
              "      <td>6.0</td>\n",
              "      <td>148.0</td>\n",
              "      <td>72.0</td>\n",
              "      <td>35.0</td>\n",
              "      <td>0.0</td>\n",
              "      <td>33.599998</td>\n",
              "      <td>0.627</td>\n",
              "      <td>50.0</td>\n",
              "    </tr>\n",
              "    <tr>\n",
              "      <th>1</th>\n",
              "      <td>1.0</td>\n",
              "      <td>85.0</td>\n",
              "      <td>66.0</td>\n",
              "      <td>29.0</td>\n",
              "      <td>0.0</td>\n",
              "      <td>26.600000</td>\n",
              "      <td>0.351</td>\n",
              "      <td>31.0</td>\n",
              "    </tr>\n",
              "    <tr>\n",
              "      <th>2</th>\n",
              "      <td>8.0</td>\n",
              "      <td>183.0</td>\n",
              "      <td>64.0</td>\n",
              "      <td>0.0</td>\n",
              "      <td>0.0</td>\n",
              "      <td>23.299999</td>\n",
              "      <td>0.672</td>\n",
              "      <td>32.0</td>\n",
              "    </tr>\n",
              "    <tr>\n",
              "      <th>3</th>\n",
              "      <td>1.0</td>\n",
              "      <td>89.0</td>\n",
              "      <td>66.0</td>\n",
              "      <td>23.0</td>\n",
              "      <td>94.0</td>\n",
              "      <td>28.100000</td>\n",
              "      <td>0.167</td>\n",
              "      <td>21.0</td>\n",
              "    </tr>\n",
              "    <tr>\n",
              "      <th>4</th>\n",
              "      <td>0.0</td>\n",
              "      <td>137.0</td>\n",
              "      <td>40.0</td>\n",
              "      <td>35.0</td>\n",
              "      <td>168.0</td>\n",
              "      <td>43.099998</td>\n",
              "      <td>2.288</td>\n",
              "      <td>33.0</td>\n",
              "    </tr>\n",
              "    <tr>\n",
              "      <th>...</th>\n",
              "      <td>...</td>\n",
              "      <td>...</td>\n",
              "      <td>...</td>\n",
              "      <td>...</td>\n",
              "      <td>...</td>\n",
              "      <td>...</td>\n",
              "      <td>...</td>\n",
              "      <td>...</td>\n",
              "    </tr>\n",
              "    <tr>\n",
              "      <th>763</th>\n",
              "      <td>10.0</td>\n",
              "      <td>101.0</td>\n",
              "      <td>76.0</td>\n",
              "      <td>48.0</td>\n",
              "      <td>180.0</td>\n",
              "      <td>32.900002</td>\n",
              "      <td>0.171</td>\n",
              "      <td>63.0</td>\n",
              "    </tr>\n",
              "    <tr>\n",
              "      <th>764</th>\n",
              "      <td>2.0</td>\n",
              "      <td>122.0</td>\n",
              "      <td>70.0</td>\n",
              "      <td>27.0</td>\n",
              "      <td>0.0</td>\n",
              "      <td>36.799999</td>\n",
              "      <td>0.340</td>\n",
              "      <td>27.0</td>\n",
              "    </tr>\n",
              "    <tr>\n",
              "      <th>765</th>\n",
              "      <td>5.0</td>\n",
              "      <td>121.0</td>\n",
              "      <td>72.0</td>\n",
              "      <td>23.0</td>\n",
              "      <td>112.0</td>\n",
              "      <td>26.200001</td>\n",
              "      <td>0.245</td>\n",
              "      <td>30.0</td>\n",
              "    </tr>\n",
              "    <tr>\n",
              "      <th>766</th>\n",
              "      <td>1.0</td>\n",
              "      <td>126.0</td>\n",
              "      <td>60.0</td>\n",
              "      <td>0.0</td>\n",
              "      <td>0.0</td>\n",
              "      <td>30.100000</td>\n",
              "      <td>0.349</td>\n",
              "      <td>47.0</td>\n",
              "    </tr>\n",
              "    <tr>\n",
              "      <th>767</th>\n",
              "      <td>1.0</td>\n",
              "      <td>93.0</td>\n",
              "      <td>70.0</td>\n",
              "      <td>31.0</td>\n",
              "      <td>0.0</td>\n",
              "      <td>30.400000</td>\n",
              "      <td>0.315</td>\n",
              "      <td>23.0</td>\n",
              "    </tr>\n",
              "  </tbody>\n",
              "</table>\n",
              "<p>768 rows × 8 columns</p>\n",
              "</div>"
            ],
            "text/plain": [
              "        0      1     2     3      4          5      6     7\n",
              "0     6.0  148.0  72.0  35.0    0.0  33.599998  0.627  50.0\n",
              "1     1.0   85.0  66.0  29.0    0.0  26.600000  0.351  31.0\n",
              "2     8.0  183.0  64.0   0.0    0.0  23.299999  0.672  32.0\n",
              "3     1.0   89.0  66.0  23.0   94.0  28.100000  0.167  21.0\n",
              "4     0.0  137.0  40.0  35.0  168.0  43.099998  2.288  33.0\n",
              "..    ...    ...   ...   ...    ...        ...    ...   ...\n",
              "763  10.0  101.0  76.0  48.0  180.0  32.900002  0.171  63.0\n",
              "764   2.0  122.0  70.0  27.0    0.0  36.799999  0.340  27.0\n",
              "765   5.0  121.0  72.0  23.0  112.0  26.200001  0.245  30.0\n",
              "766   1.0  126.0  60.0   0.0    0.0  30.100000  0.349  47.0\n",
              "767   1.0   93.0  70.0  31.0    0.0  30.400000  0.315  23.0\n",
              "\n",
              "[768 rows x 8 columns]"
            ]
          },
          "metadata": {
            "tags": []
          }
        }
      ]
    },
    {
      "cell_type": "code",
      "metadata": {
        "colab": {
          "base_uri": "https://localhost:8080/",
          "height": 297
        },
        "id": "HUKcWPkCYZss",
        "outputId": "b5efd15d-664f-4e61-9716-d46441b022fc"
      },
      "source": [
        "display(df.describe())"
      ],
      "execution_count": 9,
      "outputs": [
        {
          "output_type": "display_data",
          "data": {
            "text/html": [
              "<div>\n",
              "<style scoped>\n",
              "    .dataframe tbody tr th:only-of-type {\n",
              "        vertical-align: middle;\n",
              "    }\n",
              "\n",
              "    .dataframe tbody tr th {\n",
              "        vertical-align: top;\n",
              "    }\n",
              "\n",
              "    .dataframe thead th {\n",
              "        text-align: right;\n",
              "    }\n",
              "</style>\n",
              "<table border=\"1\" class=\"dataframe\">\n",
              "  <thead>\n",
              "    <tr style=\"text-align: right;\">\n",
              "      <th></th>\n",
              "      <th>0</th>\n",
              "      <th>1</th>\n",
              "      <th>2</th>\n",
              "      <th>3</th>\n",
              "      <th>4</th>\n",
              "      <th>5</th>\n",
              "      <th>6</th>\n",
              "      <th>7</th>\n",
              "    </tr>\n",
              "  </thead>\n",
              "  <tbody>\n",
              "    <tr>\n",
              "      <th>count</th>\n",
              "      <td>768.000000</td>\n",
              "      <td>768.000000</td>\n",
              "      <td>768.000000</td>\n",
              "      <td>768.000000</td>\n",
              "      <td>768.000000</td>\n",
              "      <td>768.000000</td>\n",
              "      <td>768.000000</td>\n",
              "      <td>768.000000</td>\n",
              "    </tr>\n",
              "    <tr>\n",
              "      <th>mean</th>\n",
              "      <td>3.845052</td>\n",
              "      <td>120.894531</td>\n",
              "      <td>69.105469</td>\n",
              "      <td>20.536458</td>\n",
              "      <td>79.799479</td>\n",
              "      <td>31.992578</td>\n",
              "      <td>0.471876</td>\n",
              "      <td>33.240885</td>\n",
              "    </tr>\n",
              "    <tr>\n",
              "      <th>std</th>\n",
              "      <td>3.369578</td>\n",
              "      <td>31.972618</td>\n",
              "      <td>19.355807</td>\n",
              "      <td>15.952218</td>\n",
              "      <td>115.244002</td>\n",
              "      <td>7.884160</td>\n",
              "      <td>0.331329</td>\n",
              "      <td>11.760232</td>\n",
              "    </tr>\n",
              "    <tr>\n",
              "      <th>min</th>\n",
              "      <td>0.000000</td>\n",
              "      <td>0.000000</td>\n",
              "      <td>0.000000</td>\n",
              "      <td>0.000000</td>\n",
              "      <td>0.000000</td>\n",
              "      <td>0.000000</td>\n",
              "      <td>0.078000</td>\n",
              "      <td>21.000000</td>\n",
              "    </tr>\n",
              "    <tr>\n",
              "      <th>25%</th>\n",
              "      <td>1.000000</td>\n",
              "      <td>99.000000</td>\n",
              "      <td>62.000000</td>\n",
              "      <td>0.000000</td>\n",
              "      <td>0.000000</td>\n",
              "      <td>27.299999</td>\n",
              "      <td>0.243750</td>\n",
              "      <td>24.000000</td>\n",
              "    </tr>\n",
              "    <tr>\n",
              "      <th>50%</th>\n",
              "      <td>3.000000</td>\n",
              "      <td>117.000000</td>\n",
              "      <td>72.000000</td>\n",
              "      <td>23.000000</td>\n",
              "      <td>30.500000</td>\n",
              "      <td>32.000000</td>\n",
              "      <td>0.372500</td>\n",
              "      <td>29.000000</td>\n",
              "    </tr>\n",
              "    <tr>\n",
              "      <th>75%</th>\n",
              "      <td>6.000000</td>\n",
              "      <td>140.250000</td>\n",
              "      <td>80.000000</td>\n",
              "      <td>32.000000</td>\n",
              "      <td>127.250000</td>\n",
              "      <td>36.599998</td>\n",
              "      <td>0.626250</td>\n",
              "      <td>41.000000</td>\n",
              "    </tr>\n",
              "    <tr>\n",
              "      <th>max</th>\n",
              "      <td>17.000000</td>\n",
              "      <td>199.000000</td>\n",
              "      <td>122.000000</td>\n",
              "      <td>99.000000</td>\n",
              "      <td>846.000000</td>\n",
              "      <td>67.099998</td>\n",
              "      <td>2.420000</td>\n",
              "      <td>81.000000</td>\n",
              "    </tr>\n",
              "  </tbody>\n",
              "</table>\n",
              "</div>"
            ],
            "text/plain": [
              "                0           1           2  ...           5           6           7\n",
              "count  768.000000  768.000000  768.000000  ...  768.000000  768.000000  768.000000\n",
              "mean     3.845052  120.894531   69.105469  ...   31.992578    0.471876   33.240885\n",
              "std      3.369578   31.972618   19.355807  ...    7.884160    0.331329   11.760232\n",
              "min      0.000000    0.000000    0.000000  ...    0.000000    0.078000   21.000000\n",
              "25%      1.000000   99.000000   62.000000  ...   27.299999    0.243750   24.000000\n",
              "50%      3.000000  117.000000   72.000000  ...   32.000000    0.372500   29.000000\n",
              "75%      6.000000  140.250000   80.000000  ...   36.599998    0.626250   41.000000\n",
              "max     17.000000  199.000000  122.000000  ...   67.099998    2.420000   81.000000\n",
              "\n",
              "[8 rows x 8 columns]"
            ]
          },
          "metadata": {
            "tags": []
          }
        }
      ]
    },
    {
      "cell_type": "code",
      "metadata": {
        "colab": {
          "base_uri": "https://localhost:8080/"
        },
        "id": "qaVF4kPD8xKq",
        "outputId": "118e5e43-d3fb-4221-879d-f0e1a7c45233"
      },
      "source": [
        "# partition the data to training and test sets\n",
        "n = x.shape[0]\n",
        "n_train = 640\n",
        "n_test = n - n_train\n",
        "\n",
        "rand_indices = numpy.random.permutation(n)\n",
        "train_indices = rand_indices[0:n_train]\n",
        "test_indices = rand_indices[n_train:n]\n",
        "\n",
        "x_train = x[train_indices, :]\n",
        "x_test = x[test_indices, :]\n",
        "y_train = y[train_indices].reshape(n_train, 1)\n",
        "y_test = y[test_indices].reshape(n_test, 1)\n",
        "\n",
        "print('Shape of x_train: ' + str(x_train.shape))\n",
        "print('Shape of x_test: ' + str(x_test.shape))\n",
        "print('Shape of y_train: ' + str(y_train.shape))\n",
        "print('Shape of y_test: ' + str(y_test.shape))"
      ],
      "execution_count": 67,
      "outputs": [
        {
          "output_type": "stream",
          "text": [
            "Shape of x_train: (640, 8)\n",
            "Shape of x_test: (128, 8)\n",
            "Shape of y_train: (640, 1)\n",
            "Shape of y_test: (128, 1)\n"
          ],
          "name": "stdout"
        }
      ]
    },
    {
      "cell_type": "code",
      "metadata": {
        "id": "vu0Fk2ysZSup"
      },
      "source": [
        ""
      ],
      "execution_count": 67,
      "outputs": []
    },
    {
      "cell_type": "markdown",
      "metadata": {
        "id": "USVhrsQu8xKq"
      },
      "source": [
        "## 1.3. Feature scaling"
      ]
    },
    {
      "cell_type": "markdown",
      "metadata": {
        "id": "hiTtaRQI8xKq"
      },
      "source": [
        "Use the standardization to trainsform both training and test features"
      ]
    },
    {
      "cell_type": "code",
      "metadata": {
        "colab": {
          "base_uri": "https://localhost:8080/"
        },
        "id": "plO7yaf88xKr",
        "outputId": "927be56a-8ffb-4645-a9df-8483e6701884"
      },
      "source": [
        "# Standardization\n",
        "import numpy\n",
        "\n",
        "# calculate mu and sig using the training set\n",
        "d = x_train.shape[1]\n",
        "mu = numpy.mean(x_train, axis=0).reshape(1, d)\n",
        "sig = numpy.std(x_train, axis=0).reshape(1, d)\n",
        "\n",
        "# transform the training features\n",
        "x_train = (x_train - mu) / (sig + 1E-6)\n",
        "\n",
        "# transform the test features\n",
        "x_test = (x_test - mu) / (sig + 1E-6)\n",
        "\n",
        "print('test mean = ')\n",
        "print(numpy.mean(x_test, axis=0))\n",
        "\n",
        "print('test std = ')\n",
        "print(numpy.std(x_test, axis=0))"
      ],
      "execution_count": 68,
      "outputs": [
        {
          "output_type": "stream",
          "text": [
            "test mean = \n",
            "[[-0.01988454  0.13053054  0.13929711  0.05851485 -0.07120218  0.06150207\n",
            "  -0.08059155  0.05183401]]\n",
            "test std = \n",
            "[[0.97923808 1.06461451 0.88133722 1.00874805 0.95874181 0.90763849\n",
            "  0.84780095 0.98150316]]\n"
          ],
          "name": "stdout"
        }
      ]
    },
    {
      "cell_type": "markdown",
      "metadata": {
        "id": "4W_uMBjL8xKr"
      },
      "source": [
        "## 1.4. Add a dimension of all ones"
      ]
    },
    {
      "cell_type": "code",
      "metadata": {
        "colab": {
          "base_uri": "https://localhost:8080/"
        },
        "id": "hiu0SgAe8xKr",
        "outputId": "46942239-5665-4320-95ce-17ccddfa5ab3"
      },
      "source": [
        "n_train, d = x_train.shape\n",
        "x_train = numpy.concatenate((x_train, numpy.ones((n_train, 1))), axis=1)\n",
        "\n",
        "n_test, d = x_test.shape\n",
        "x_test = numpy.concatenate((x_test, numpy.ones((n_test, 1))), axis=1)\n",
        "\n",
        "print('Shape of x_train: ' + str(x_train.shape))\n",
        "print('Shape of x_test: ' + str(x_test.shape))"
      ],
      "execution_count": 69,
      "outputs": [
        {
          "output_type": "stream",
          "text": [
            "Shape of x_train: (640, 9)\n",
            "Shape of x_test: (128, 9)\n"
          ],
          "name": "stdout"
        }
      ]
    },
    {
      "cell_type": "code",
      "metadata": {
        "colab": {
          "base_uri": "https://localhost:8080/"
        },
        "id": "jGrVoaQLIf-T",
        "outputId": "233722fa-03dd-47b1-b6be-523ba00d8ca2"
      },
      "source": [
        "# Define an object\n",
        "model = tf.keras.models.Sequential()\n",
        "# sequence of layers\n",
        "# Adding first fully connected hidden layer\n",
        "# 1) units (No of neurons) = 512\n",
        "# 2) activation function = ReLU\n",
        "# 3) input shape = 9\n",
        "model.add(tf.keras.layers.Dense(units=512, activation='relu', input_shape=(9,)))\n",
        "\n",
        "# Adding the second layer with dropout\n",
        "model.add(tf.keras.layers.Dropout(0.3))\n",
        "\n",
        "# sequence of layers\n",
        "# Adding first fully connected hidden layer\n",
        "# 1) units (No of neurons) = 256\n",
        "# 2) activation function = ReLU\n",
        "model.add(tf.keras.layers.Dense(units=256, activation='relu', input_shape=(9,)))\n",
        "\n",
        "# Adding the second layer with dropout\n",
        "model.add(tf.keras.layers.Dropout(0.3))\n",
        "\n",
        "# sequence of layers\n",
        "# Adding first fully connected hidden layer\n",
        "# 1) units (No of neurons) = 128\n",
        "# 2) activation function = ReLU\n",
        "model.add(tf.keras.layers.Dense(units=128, activation='relu', input_shape=(9,)))\n",
        "\n",
        "# Adding the second layer with dropout\n",
        "model.add(tf.keras.layers.Dropout(0.3))\n",
        "\n",
        "# sequence of layers\n",
        "# Adding first fully connected hidden layer\n",
        "# 1) units (No of neurons) = 64\n",
        "# 2) activation function = ReLU\n",
        "model.add(tf.keras.layers.Dense(units=64, activation='relu', input_shape=(9,)))\n",
        "\n",
        "# Adding the second layer with dropout\n",
        "model.add(tf.keras.layers.Dropout(0.3))\n",
        "\n",
        "# regularization technique, prevents overfitting\n",
        "# Adding the output layer\n",
        "# 1) units = 1\n",
        "# 2) activation = softmax\n",
        "model.add(tf.keras.layers.Dense(units=1, activation='sigmoid'))\n",
        "\n",
        "# Compiling the model\n",
        "# 1) Optimizer = adam, (minimize the loss function)\n",
        "# 2) loss function = binary_crossentropy, (acts as guide to optimizer)\n",
        "# 3) metrices = accuracy\n",
        "\n",
        "model.compile(optimizer='adam',loss='binary_crossentropy', metrics=['accuracy'])\n",
        "model.summary()\n"
      ],
      "execution_count": 91,
      "outputs": [
        {
          "output_type": "stream",
          "text": [
            "Model: \"sequential_13\"\n",
            "_________________________________________________________________\n",
            "Layer (type)                 Output Shape              Param #   \n",
            "=================================================================\n",
            "dense_45 (Dense)             (None, 512)               5120      \n",
            "_________________________________________________________________\n",
            "dropout_33 (Dropout)         (None, 512)               0         \n",
            "_________________________________________________________________\n",
            "dense_46 (Dense)             (None, 256)               131328    \n",
            "_________________________________________________________________\n",
            "dropout_34 (Dropout)         (None, 256)               0         \n",
            "_________________________________________________________________\n",
            "dense_47 (Dense)             (None, 128)               32896     \n",
            "_________________________________________________________________\n",
            "dropout_35 (Dropout)         (None, 128)               0         \n",
            "_________________________________________________________________\n",
            "dense_48 (Dense)             (None, 64)                8256      \n",
            "_________________________________________________________________\n",
            "dropout_36 (Dropout)         (None, 64)                0         \n",
            "_________________________________________________________________\n",
            "dense_49 (Dense)             (None, 1)                 65        \n",
            "=================================================================\n",
            "Total params: 177,665\n",
            "Trainable params: 177,665\n",
            "Non-trainable params: 0\n",
            "_________________________________________________________________\n"
          ],
          "name": "stdout"
        }
      ]
    },
    {
      "cell_type": "code",
      "metadata": {
        "colab": {
          "base_uri": "https://localhost:8080/"
        },
        "id": "cKofhslkXxiR",
        "outputId": "b93f0920-4eb9-4bb4-dc3d-1841e58d299d"
      },
      "source": [
        "# Training the model\n",
        "history=model.fit(x_train_1,y_train_1, epochs=20,validation_split=0.2)"
      ],
      "execution_count": 92,
      "outputs": [
        {
          "output_type": "stream",
          "text": [
            "Epoch 1/20\n",
            "16/16 [==============================] - 1s 20ms/step - loss: 0.6545 - accuracy: 0.6053 - val_loss: 0.5587 - val_accuracy: 0.7031\n",
            "Epoch 2/20\n",
            "16/16 [==============================] - 0s 11ms/step - loss: 0.4979 - accuracy: 0.7600 - val_loss: 0.6017 - val_accuracy: 0.6797\n",
            "Epoch 3/20\n",
            "16/16 [==============================] - 0s 10ms/step - loss: 0.4490 - accuracy: 0.7855 - val_loss: 0.6065 - val_accuracy: 0.6641\n",
            "Epoch 4/20\n",
            "16/16 [==============================] - 0s 11ms/step - loss: 0.4509 - accuracy: 0.7945 - val_loss: 0.6071 - val_accuracy: 0.6797\n",
            "Epoch 5/20\n",
            "16/16 [==============================] - 0s 10ms/step - loss: 0.4129 - accuracy: 0.7977 - val_loss: 0.6417 - val_accuracy: 0.6953\n",
            "Epoch 6/20\n",
            "16/16 [==============================] - 0s 10ms/step - loss: 0.4509 - accuracy: 0.7938 - val_loss: 0.6209 - val_accuracy: 0.6562\n",
            "Epoch 7/20\n",
            "16/16 [==============================] - 0s 10ms/step - loss: 0.4161 - accuracy: 0.8209 - val_loss: 0.6441 - val_accuracy: 0.6953\n",
            "Epoch 8/20\n",
            "16/16 [==============================] - 0s 11ms/step - loss: 0.4303 - accuracy: 0.7842 - val_loss: 0.6176 - val_accuracy: 0.6953\n",
            "Epoch 9/20\n",
            "16/16 [==============================] - 0s 10ms/step - loss: 0.4025 - accuracy: 0.8136 - val_loss: 0.6863 - val_accuracy: 0.7109\n",
            "Epoch 10/20\n",
            "16/16 [==============================] - 0s 10ms/step - loss: 0.4663 - accuracy: 0.7948 - val_loss: 0.6357 - val_accuracy: 0.7031\n",
            "Epoch 11/20\n",
            "16/16 [==============================] - 0s 9ms/step - loss: 0.3789 - accuracy: 0.8342 - val_loss: 0.6846 - val_accuracy: 0.7031\n",
            "Epoch 12/20\n",
            "16/16 [==============================] - 0s 10ms/step - loss: 0.3710 - accuracy: 0.8209 - val_loss: 0.7027 - val_accuracy: 0.6875\n",
            "Epoch 13/20\n",
            "16/16 [==============================] - 0s 10ms/step - loss: 0.3761 - accuracy: 0.8139 - val_loss: 0.6722 - val_accuracy: 0.6875\n",
            "Epoch 14/20\n",
            "16/16 [==============================] - 0s 11ms/step - loss: 0.3706 - accuracy: 0.8018 - val_loss: 0.6745 - val_accuracy: 0.6953\n",
            "Epoch 15/20\n",
            "16/16 [==============================] - 0s 10ms/step - loss: 0.3785 - accuracy: 0.7985 - val_loss: 0.7019 - val_accuracy: 0.6875\n",
            "Epoch 16/20\n",
            "16/16 [==============================] - 0s 10ms/step - loss: 0.4048 - accuracy: 0.8040 - val_loss: 0.7193 - val_accuracy: 0.7031\n",
            "Epoch 17/20\n",
            "16/16 [==============================] - 0s 9ms/step - loss: 0.3599 - accuracy: 0.8312 - val_loss: 0.7724 - val_accuracy: 0.6797\n",
            "Epoch 18/20\n",
            "16/16 [==============================] - 0s 9ms/step - loss: 0.3365 - accuracy: 0.8415 - val_loss: 0.7160 - val_accuracy: 0.7109\n",
            "Epoch 19/20\n",
            "16/16 [==============================] - 0s 11ms/step - loss: 0.3481 - accuracy: 0.8391 - val_loss: 0.7365 - val_accuracy: 0.6953\n",
            "Epoch 20/20\n",
            "16/16 [==============================] - 0s 10ms/step - loss: 0.3243 - accuracy: 0.8412 - val_loss: 0.8044 - val_accuracy: 0.7109\n"
          ],
          "name": "stdout"
        }
      ]
    },
    {
      "cell_type": "code",
      "metadata": {
        "id": "FzItJgvmXfhD"
      },
      "source": [
        "def learning_curve(history):\n",
        "\n",
        "  # training vs validation accuracy\n",
        "  epoch_range = range(1, len(history.history['accuracy'])+1)\n",
        "  plt.plot(epoch_range, history.history['accuracy'])\n",
        "  plt.plot(epoch_range, history.history['val_accuracy'])\n",
        "  plt.title('Model Accuracy')\n",
        "  plt.ylabel('Accuracy')\n",
        "  plt.xlabel('Epoch')\n",
        "  plt.legend(['Train', 'val'], loc='upper left')\n",
        "  plt.show()\n",
        "\n",
        "  # training vs validation loss\n",
        "  plt.plot(epoch_range, history.history['loss'])\n",
        "  plt.plot(epoch_range, history.history['val_loss'])\n",
        "  plt.title('Model Loss')\n",
        "  plt.ylabel('Loss')\n",
        "  plt.xlabel('Epoch')\n",
        "  plt.legend(['Train', 'val'], loc='upper left')\n",
        "  plt.show()"
      ],
      "execution_count": 93,
      "outputs": []
    },
    {
      "cell_type": "code",
      "metadata": {
        "colab": {
          "base_uri": "https://localhost:8080/",
          "height": 573
        },
        "id": "ZNhuyb9ZaZ0q",
        "outputId": "55a95599-75b9-4658-95ae-322b9a3edaa0"
      },
      "source": [
        "learning_curve(history)"
      ],
      "execution_count": 94,
      "outputs": [
        {
          "output_type": "display_data",
          "data": {
            "image/png": "[encoded data removed]",
            "text/plain": [
              "<Figure size 432x288 with 1 Axes>"
            ]
          },
          "metadata": {
            "tags": [],
            "needs_background": "light"
          }
        },
        {
          "output_type": "display_data",
          "data": {
            "image/png": "[encoded data removed]",
            "text/plain": [
              "<Figure size 432x288 with 1 Axes>"
            ]
          },
          "metadata": {
            "tags": [],
            "needs_background": "light"
          }
        }
      ]
    },
    {
      "cell_type": "code",
      "metadata": {
        "colab": {
          "base_uri": "https://localhost:8080/"
        },
        "id": "HvMdKFDnacAS",
        "outputId": "514b34c4-cb82-4a8c-ef46-ec8322e469fa"
      },
      "source": [
        "# Model evaluation\n",
        "test_loss, test_accuracy = model.evaluate(x_test, y_test)"
      ],
      "execution_count": 95,
      "outputs": [
        {
          "output_type": "stream",
          "text": [
            "4/4 [==============================] - 0s 5ms/step - loss: 0.4277 - accuracy: 0.5391\n"
          ],
          "name": "stdout"
        }
      ]
    },
    {
      "cell_type": "code",
      "metadata": {
        "colab": {
          "base_uri": "https://localhost:8080/"
        },
        "id": "DH_fHR8hclbD",
        "outputId": "a3c344a5-76cc-4ef1-a59f-1d9d5f5d0e32"
      },
      "source": [
        "print('Test Accuracy: {}'.format(test_accuracy))"
      ],
      "execution_count": 96,
      "outputs": [
        {
          "output_type": "stream",
          "text": [
            "Test Accuracy: 0.5390625\n"
          ],
          "name": "stdout"
        }
      ]
    },
    {
      "cell_type": "code",
      "metadata": {
        "colab": {
          "base_uri": "https://localhost:8080/"
        },
        "id": "RfUcdXDSctNI",
        "outputId": "2f837e9d-b6b1-42a9-a530-a6f521e37829"
      },
      "source": [
        "# Model prediction\n",
        "y_pred = model.predict_classes(x_test_1)"
      ],
      "execution_count": 99,
      "outputs": [
        {
          "output_type": "stream",
          "text": [
            "/usr/local/lib/python3.7/dist-packages/tensorflow/python/keras/engine/sequential.py:450: UserWarning: `model.predict_classes()` is deprecated and will be removed after 2021-01-01. Please use instead:* `np.argmax(model.predict(x), axis=-1)`,   if your model does multi-class classification   (e.g. if it uses a `softmax` last-layer activation).* `(model.predict(x) > 0.5).astype(\"int32\")`,   if your model does binary classification   (e.g. if it uses a `sigmoid` last-layer activation).\n",
            "  warnings.warn('`model.predict_classes()` is deprecated and '\n"
          ],
          "name": "stderr"
        }
      ]
    },
    {
      "cell_type": "code",
      "metadata": {
        "colab": {
          "base_uri": "https://localhost:8080/"
        },
        "id": "re244tGkcn_w",
        "outputId": "1fdb26be-4bf6-4505-a9ce-bc86c8aa5f6c"
      },
      "source": [
        "\n",
        "# Confusion metrix\n",
        "from sklearn.metrics import confusion_matrix, accuracy_score\n",
        "cm = confusion_matrix(y_test_1,y_pred)\n",
        "print(cm)"
      ],
      "execution_count": 100,
      "outputs": [
        {
          "output_type": "stream",
          "text": [
            "[[29 15]\n",
            " [15 69]]\n"
          ],
          "name": "stdout"
        }
      ]
    },
    {
      "cell_type": "code",
      "metadata": {
        "id": "GBjfXSpMcrw_"
      },
      "source": [
        ""
      ],
      "execution_count": null,
      "outputs": []
    }
  ]
}